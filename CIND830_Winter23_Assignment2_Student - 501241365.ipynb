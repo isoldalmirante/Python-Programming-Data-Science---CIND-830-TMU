{
  "cells": [
    {
      "cell_type": "markdown",
      "source": [
        "## CIND830 - Python Programming for Data Science  \n",
        "### Assignment 2 (15% of the final grade) \n",
        "### Due on April 12, 2023 11:59 PM "
      ],
      "metadata": {
        "id": "kJ6ssXaGJfGN"
      }
    },
    {
      "cell_type": "markdown",
      "source": [
        "*****\n",
        "This is a Jupyter Notebook document that extends a simple formatting syntax for authoring HTML and PDF. Review [this](https://jupyter-notebook.readthedocs.io/en/stable/notebook.html) website for more details on using Jupyter Notebooks.\n",
        "\n",
        "Consider using a Jupyter Notebook platform to complete this assignment. Ensure using **Python 3.7 release or higher** then complete the assignment by inserting your Python code wherever seeing the string `#INSERT YOUR ANSWER HERE.`\n",
        "\n",
        "You are expected to submit the notebook file (in IPYNB format) and the exported version (either in PDF or HTML) in the same Assignment link in D2L. Use [these](https://www.torontomu.ca/courses/students/tutorials/assignments/) guidelines to submit **both** the IPYNB and the exported file (HTML or PDF). Failing to submit both files will be subject to mark deduction.\n",
        "\n",
        "Please be advised that you cannot get more than 100% in this assignment, and the **BONUS** question will only be graded if all other questions have been submitted."
      ],
      "metadata": {
        "id": "UWjXw7DsJfGP"
      }
    },
    {
      "cell_type": "markdown",
      "source": [
        "*****\n",
        "Coverage:\n",
        "1. Lists, Tuples and Dictionaries\n",
        "2. Functions and Classes\n",
        "3. Searching and Sorting\n",
        "4. Arrays and Grids\n",
        "5. Stacks, Queues, and Lists\n",
        "*****"
      ],
      "metadata": {
        "id": "EAq5nq7shwbI"
      }
    },
    {
      "cell_type": "markdown",
      "source": [
        "### **Question 1 [20 pts]**: "
      ],
      "metadata": {
        "id": "5MUOVmchP8WV"
      }
    },
    {
      "cell_type": "markdown",
      "source": [
        "**Question 1.a [10 pts]**: \n",
        "The `iArray` class in the course materials does not support the sorting functionality. Define a `sort` method that **implements the Selection Sort algorithm** to sort an array object's elements.\n",
        " \n",
        "After modifying the `iArray` class, run the code below to verify your answer.\n",
        "```\n",
        "myArray = iArray(10)\n",
        "myArray[0] = \"C\"\n",
        "myArray[1] = \"B\"\n",
        "myArray[2] = \"A\"\n",
        "myArray[3] = \"Z\"\n",
        "myArray[4] = \"K\"\n",
        "myArray[5] = \"Y\"\n",
        "myArray[6] = \"O\"\n",
        "myArray[7] = \"P\"\n",
        "\n",
        "myArray.sort()\n",
        "print(myArray)\n",
        "#If you design the iArray class correctly, the output should be as follows:\n",
        "#['A', 'B', 'C', 'K', 'O', 'P', 'Y', 'Z', None, None]\n",
        "``` \n",
        " \n",
        "**Assumption:** In the `sort` method, you can assume that all array elements precede the `None` value. \n",
        " \n",
        "**Note:** Please consider using the `iArray` and `selectionSort` algorithms from your course materials; however, you need to modify the selection sort algorithm so that it can perform on any `iArray` object."
      ],
      "metadata": {
        "id": "_OVpXxAnDklK"
      }
    },
    {
      "cell_type": "code",
      "source": [
        "#The code defines a class called iArray that represents an array that can hold a fixed number of elements.\n",
        "#__init__() which takes a size argument (which is the size of the array) and the array is a Python list initialized with None values, that is, empty.\n",
        "\n",
        "class iArray:\n",
        "    def __init__(self, size):\n",
        "        self.size = size\n",
        "        self.array = [None] * size\n",
        "\n",
        "#__getitem__() takes an index as an argument and returns the element at that index.\n",
        "\n",
        "    def __getitem__(self, index):\n",
        "        return self.array[index]\n",
        "\n",
        "#__setitem__() takes an index and a value as arguments and sets the value of the element at the given index.\n",
        "\n",
        "    def __setitem__(self, index, value):\n",
        "        self.array[index] = value\n",
        "\n",
        "#__str__() returns a string representation of the array.\n",
        "\n",
        "    def __str__(self):\n",
        "        return str(self.array)\n",
        "\n",
        "#sort() is a selection sorting algorithm that sorts array elements in ascending order.\n",
        "#It loops through each element of the array and finds the smallest element from the current element to the end of the array and places it in the correct position.\n",
        "#The inner loop starts from the element after the current element to avoid unnecessary element swaps. If the smallest element found is None, it will be ignored.\n",
        "\n",
        "    def sort(self):\n",
        "        for i in range(self.size):\n",
        "            min_index = i\n",
        "            for j in range(i + 1, self.size):\n",
        "                if self.array[j] is not None and (self.array[min_index] is None or self.array[j] < self.array[min_index]):\n",
        "                    min_index = j\n",
        "            self.array[i], self.array[min_index] = self.array[min_index], self.array[i]\n",
        "\n",
        "myArray = iArray(10)\n",
        "myArray[0] = \"C\"\n",
        "myArray[1] = \"B\"\n",
        "myArray[2] = \"A\"\n",
        "myArray[3] = \"Z\"\n",
        "myArray[4] = \"K\"\n",
        "myArray[5] = \"Y\"\n",
        "myArray[6] = \"O\"\n",
        "myArray[7] = \"P\"\n",
        "\n",
        "myArray.sort()#sort() to sorts array elements in ascending order.\n",
        "print(myArray)"
      ],
      "outputs": [
        {
          "output_type": "stream",
          "name": "stdout",
          "text": [
            "['A', 'B', 'C', 'K', 'O', 'P', 'Y', 'Z', None, None]\n"
          ]
        }
      ],
      "execution_count": 1,
      "metadata": {
        "id": "CBrGPu54P_lw",
        "colab": {
          "base_uri": "https://localhost:8080/"
        },
        "outputId": "4448a3b5-9ef1-469a-999e-d308bb3beeb0"
      }
    },
    {
      "cell_type": "markdown",
      "source": [
        "**Question 1.b [10 pts]**:  \n",
        "Define a `search` method that **implements the Binary Search algorithm** and add it to the `iArray` class you modified in Question 1. a.\n",
        "\n",
        "After modifying the `iArray` class, run the code below to verify your answer. \n",
        "```\n",
        "#DO NOT MODIFY THIS PART\n",
        "myArray = iArray(10)\n",
        "myArray[0] = \"C\"\n",
        "myArray[1] = \"B\"\n",
        "myArray[2] = \"A\"\n",
        "myArray[3] = \"Z\"\n",
        "myArray[4] = \"K\"\n",
        "myArray[5] = \"Y\"\n",
        "myArray[6] = \"O\"\n",
        "myArray[7] = \"P\"\n",
        "\n",
        "myArray.sort()\n",
        "searchCharacter = \"C\"\n",
        "foundPosition = myArray.search(searchCharacter)\n",
        "print(myArray)\n",
        "print(f\"The searched character {searchCharacter} is found at index {foundPosition}\")\n",
        "\n",
        "# If you design the iArray class correctly, the output should be as follows\n",
        "# ['A', 'B', 'C', 'K', 'O', 'P', 'Y', 'Z', None, None]\n",
        "# The searched character C is found at index 2\n",
        "```\n",
        "\n",
        "**Assumption:** In the `search` method, you can assume that all array elements precede the `None` value. \n",
        "\n",
        "**Note:** The `binarySearch()` in your lecture materials has been declared with two parameters: `target` and `lyst`. However, your `search` method does not need the `lyst` parameter as it will be associated with the array object.\n",
        " "
      ],
      "metadata": {
        "id": "8Cod3dqJEVAJ"
      }
    },
    {
      "cell_type": "code",
      "source": [
        "class iArray:\n",
        "    def __init__(self, size):\n",
        "        self.size = size\n",
        "        self.array = [None] * size\n",
        "\n",
        "    def __getitem__(self, index):\n",
        "        return self.array[index]\n",
        "\n",
        "    def __setitem__(self, index, value):\n",
        "        self.array[index] = value\n",
        "\n",
        "    def __str__(self):\n",
        "        return str(self.array)\n",
        "\n",
        "    def sort(self):\n",
        "        for i in range(self.size):\n",
        "            min_index = i\n",
        "            for j in range(i + 1, self.size):\n",
        "                if self.array[j] is not None and (self.array[min_index] is None or self.array[j] < self.array[min_index]):\n",
        "                    min_index = j\n",
        "            self.array[i], self.array[min_index] = self.array[min_index], self.array[i]\n",
        "\n",
        "#search() takes a target argument which is the element to be searched in the array. It initializes two variables, left and right, as the indexes of the start and end of the array.\n",
        "#Calculate the index of the middle element using the formula (left + right) // 2 and check if the element at the middle index is equal to None.\n",
        "#If None it goes back to the beginning of the search for the non-None element and resets the value of left to the next index after the last non-null element found.\n",
        "#If the element is not found before index left, it resets left to mid + 1. It then checks if the element at index mid is equal to target and returns the index if found.\n",
        "#If element is smaller than target, it resets left to mid + 1, otherwise it resets right to mid - 1.\n",
        "#If the element at index mid is not None, the method checks if it is equal to target and returns the index if found.\n",
        "#If element is smaller than target, it resets left to mid + 1, otherwise it resets right to mid - 1.\n",
        "#At the end of the method, if the element is not found, it returns -1.\n",
        "\n",
        "    def search(self, target):\n",
        "        left, right = 0, self.size - 1\n",
        "        while left <= right:\n",
        "            mid = (left + right) // 2\n",
        "            if self.array[mid] is None:\n",
        "                while mid >= left and self.array[mid] is None:\n",
        "                    mid -= 1\n",
        "                if mid < left:\n",
        "                    left = mid + 1\n",
        "                else:\n",
        "                    if self.array[mid] == target:\n",
        "                        return mid\n",
        "                    elif self.array[mid] < target:\n",
        "                        left = mid + 1\n",
        "                    else:\n",
        "                        right = mid - 1\n",
        "            elif self.array[mid] == target:\n",
        "                return mid\n",
        "            elif self.array[mid] < target:\n",
        "                left = mid + 1\n",
        "            else:\n",
        "                right = mid - 1\n",
        "        return -1\n",
        "myArray = iArray(10)\n",
        "myArray[0] = \"C\"\n",
        "myArray[1] = \"B\"\n",
        "myArray[2] = \"A\"\n",
        "myArray[3] = \"Z\"\n",
        "myArray[4] = \"K\"\n",
        "myArray[5] = \"Y\"\n",
        "myArray[6] = \"O\"\n",
        "myArray[7] = \"P\"\n",
        "\n",
        "myArray.sort()\n",
        "searchCharacter = \"C\"\n",
        "foundPosition = myArray.search(searchCharacter)\n",
        "print(myArray)\n",
        "print(f\"The searched character {searchCharacter} is found at index {foundPosition}\")"
      ],
      "outputs": [
        {
          "output_type": "stream",
          "name": "stdout",
          "text": [
            "['A', 'B', 'C', 'K', 'O', 'P', 'Y', 'Z', None, None]\n",
            "The searched character C is found at index 2\n"
          ]
        }
      ],
      "execution_count": 2,
      "metadata": {
        "id": "wQ-zkOVIEsIo",
        "colab": {
          "base_uri": "https://localhost:8080/"
        },
        "outputId": "3f07c741-c66a-4989-e30f-61334e26fb12"
      }
    },
    {
      "cell_type": "markdown",
      "source": [
        "*****"
      ],
      "metadata": {
        "id": "uDga3B_H1nC3"
      }
    },
    {
      "cell_type": "markdown",
      "source": [
        "### Question 2 **[30 pts]**: \n",
        "The data file used in this question is a sample extracted from the (https://archive.ics.uci.edu/ml/datasets/Online+Retail+II) and converted to a CSV file. The `online_retail_II.csv` is a delimited text file containing all the transactions that occurred for a UK-based online retail store in June 2011, and the CSV data file is given on the course shell along with the assignment notebook.  Please consider downloading it.  The data file contains the following columns separated by the comma character `,`\n",
        "* InvoiceNo: Invoice number. Nominal. A unique 6-digit integral number is assigned to each transaction. If this code starts with the letter 'c', it indicates a cancellation.\n",
        "*  StockCode: Product (item) code. Nominal. A unique 5-digit integral number is assigned to each particular product. \n",
        "* Description: Product (item) name. Nominal.\n",
        "* Quantity: The quantities of each product (item) per transaction. Numeric.\n",
        "* InvoiceDate: Invoice date and time. Numeric. The day and time when a transaction was generated.\n",
        "* UnitPrice: Unit price. Numeric. Product price per unit in sterling (Â£).\n",
        "* CustomerID: Customer number. Nominal. A 5-digit integral number is uniquely assigned to each customer.\n",
        "* Country: Country name. Nominal. The name of the country where a customer resides.\n",
        "\n",
        "Note: Only Python [built-in functions](https://docs.python.org/3.7/library/functions.html) or [standard modules](https://docs.python.org/3.7/py-modindex.html) are allowed to be used in this question. Do not use a third-party library for any part of the code, and importing any third-party library will result in marks deduction."
      ],
      "metadata": {
        "id": "lcZrEegvlwGk"
      }
    },
    {
      "cell_type": "markdown",
      "source": [
        "**Question 2.a [10 pts]**:  Write a Python function that reads the transactional data into a tuple of lists. Each list represents a single row/line of the file, and the elements of the list are the values of the columns. Ensure converting the Quantity and UnitPrice values to integer and float data types, respectively.\n",
        " \n",
        "Note: The first line of the CSV contains the column headings; therefore, there is no need to store it in the tuple."
      ],
      "metadata": {
        "id": "RUd0sAwMI5s7"
      }
    },
    {
      "cell_type": "code",
      "source": [
        "import csv\n",
        "\n",
        "def read_transactional_data(filename): \n",
        "    rows = []\n",
        "    with open(\"./online_retail_II.csv\", \"r\") as csvfile:\n",
        "        reader_variable = csv.reader(csvfile, delimiter=\",\")\n",
        "        next(reader_variable)  # skip header row\n",
        "        for row in reader_variable:       \n",
        "            row[3] = int(row[3])\n",
        "            row[5] = float(row[5])\n",
        "            rows.append(row)\n",
        "    return tuple(rows)\n",
        "\n",
        "data = read_transactional_data(\"./online_retail_II.csv\")\n",
        "\n",
        "for row in data[:5]:\n",
        "    print(\"{:<10} {:<10} {:<40} {:<10} {:<20} {:<10} {:<10} {:<20}\".format(*row))\n"
      ],
      "outputs": [
        {
          "output_type": "stream",
          "name": "stdout",
          "text": [
            "555156     23299      FOOD COVER WITH BEADS SET 2              6          6/1/2011 7:37        3.75       15643      United Kingdom      \n",
            "555156     22847      BREAD BIN DINER STYLE IVORY              1          6/1/2011 7:37        16.95      15643      United Kingdom      \n",
            "555157     23075      PARLOUR CERAMIC WALL HOOK                16         6/1/2011 7:38        4.15       15643      United Kingdom      \n",
            "555157     47590B     PINK HAPPY BIRTHDAY BUNTING              6          6/1/2011 7:38        5.45       15643      United Kingdom      \n",
            "555157     22423      REGENCY CAKESTAND 3 TIER                 4          6/1/2011 7:38        12.75      15643      United Kingdom      \n"
          ]
        }
      ],
      "execution_count": 39,
      "metadata": {
        "id": "uUrN6NCaJw90",
        "execution": {
          "iopub.status.busy": "2023-02-08T18:33:32.524Z",
          "iopub.execute_input": "2023-02-08T18:33:32.540Z",
          "iopub.status.idle": "2023-02-08T18:33:32.667Z",
          "shell.execute_reply": "2023-02-08T18:33:32.718Z"
        },
        "colab": {
          "base_uri": "https://localhost:8080/"
        },
        "outputId": "b7e9e5f7-ffe6-4748-f1f1-14e21165f277"
      }
    },
    {
      "cell_type": "markdown",
      "source": [
        "**Question 2.b [10 pts]**:  Write a function that reads the tuple of transactions you created in the previous question and returns the total number of transaction for each country as a dictionary. \n",
        "\n",
        "Here is an example of the structure of the output: (the numbers given below may not be correct):\n",
        "```\n",
        "{'United Kingdom': 317, 'Netherlands': 32, 'Belgium': 23, 'Germany': 67, ... }\n",
        "```"
      ],
      "metadata": {
        "id": "Zuui9Z1RKJB5"
      }
    },
    {
      "cell_type": "code",
      "source": [
        "def get_invoice_counts_by_country(transactions):\n",
        "    country_counts = {} #Creating an empty dic\n",
        "    for transaction in transactions:\n",
        "        country = transaction[7]\n",
        "        invoice = transaction[0]\n",
        "        if country not in country_counts:\n",
        "            country_counts[country] = set() #County ís the key, for each key aon empty set\n",
        "        country_counts[country].add(invoice) #Adding invoices in the sets\n",
        "    for country in country_counts:\n",
        "        country_counts[country] = len(country_counts[country]) #The size of each set per Country\n",
        "    return country_counts\n",
        "\n",
        "data = read_transactional_data('./online_retail_II.csv')\n",
        "invoice_counts_by_country = get_invoice_counts_by_country(data)\n",
        "print(invoice_counts_by_country)\n"
      ],
      "outputs": [
        {
          "output_type": "stream",
          "name": "stdout",
          "text": [
            "{'United Kingdom': 1830, 'Netherlands': 12, 'Belgium': 12, 'Germany': 33, 'Poland': 4, 'EIRE': 36, 'Australia': 5, 'Sweden': 3, 'Spain': 9, 'Cyprus': 1, 'France': 34, 'European Community': 3, 'Italy': 3, 'Portugal': 4, 'Malta': 3, 'Switzerland': 5, 'Denmark': 3, 'Iceland': 1, 'Austria': 1, 'Channel Islands': 1, 'Canada': 1, 'Norway': 4, 'Unspecified': 1, 'Japan': 1, 'Hong Kong': 1, 'Finland': 1}\n"
          ]
        }
      ],
      "execution_count": 40,
      "metadata": {
        "id": "Iv-6b3cOKQf6",
        "execution": {
          "iopub.status.busy": "2023-02-08T18:42:13.692Z",
          "iopub.execute_input": "2023-02-08T18:42:13.706Z",
          "iopub.status.idle": "2023-02-08T18:42:13.732Z",
          "shell.execute_reply": "2023-02-08T18:42:13.743Z"
        },
        "colab": {
          "base_uri": "https://localhost:8080/"
        },
        "outputId": "fe7a7473-bf07-4a77-8d4f-90dc868d96b7"
      }
    },
    {
      "cell_type": "markdown",
      "source": [
        "**Question 2.c [10 pts]**:   Write a function that reads the list of transactions you created in the previous question and returns the total quantity of units sold for each product stock code as a dictionary. Then print out only the three product stock codes with the highest number of units sold."
      ],
      "metadata": {
        "id": "fk7rwuChKT6Y"
      }
    },
    {
      "cell_type": "code",
      "source": [
        "def get_total_units_sold_by_stock_code(transactions):\n",
        "    stock_code_counts = {}\n",
        "    for transaction in transactions:\n",
        "        stock_code = transaction[1]\n",
        "        quantity = transaction[3]\n",
        "        if stock_code not in stock_code_counts:\n",
        "            stock_code_counts[stock_code] = quantity\n",
        "        else:\n",
        "            stock_code_counts[stock_code] += quantity\n",
        "    return stock_code_counts\n",
        "\n",
        "data = read_transactional_data('./online_retail_II.csv')\n",
        "total_units_sold_by_stock_code = get_total_units_sold_by_stock_code(data)\n",
        "\n",
        "top_stock_codes = sorted(total_units_sold_by_stock_code.items(), key=lambda x: x[1], reverse=True)[:3] #Creates a list top_stock_codes with 3 tuples (stock code, total units sold) whith the highest values of total units sold in the dic total_units_sold_by_stock_code\n",
        "#\"key=lambda x: x[1]\" defines an anonymous function that returns the second element of each tuple in the list, and this function is used as the key to sort the list returned by the \".items()\" method of the dictionary.\n",
        "for stock_code, total_units_sold in top_stock_codes:\n",
        "    print(\"Stock Code {}: {} units sold\".format(stock_code, total_units_sold))"
      ],
      "outputs": [
        {
          "output_type": "stream",
          "name": "stdout",
          "text": [
            "Stock Code 85123A: 5657 units sold\n",
            "Stock Code 85099B: 3676 units sold\n",
            "Stock Code 15036: 3346 units sold\n"
          ]
        }
      ],
      "execution_count": 48,
      "metadata": {
        "id": "KQaSFvnzKc_F",
        "execution": {
          "iopub.status.busy": "2023-02-08T19:17:40.303Z",
          "iopub.execute_input": "2023-02-08T19:17:40.313Z",
          "iopub.status.idle": "2023-02-08T19:17:40.338Z",
          "shell.execute_reply": "2023-02-08T19:17:40.368Z"
        },
        "colab": {
          "base_uri": "https://localhost:8080/"
        },
        "outputId": "6714162d-8ae7-4136-a048-f3c593682c4a"
      }
    },
    {
      "cell_type": "markdown",
      "source": [
        "**BONUS [10 pts]**  Write a function that reads the tuple of transactions you created in Q2.a and returns the total revenue for each product stock code as a dictionary. Then print out only the ten product stock codes with the highest revenue."
      ],
      "metadata": {
        "id": "pSTdVjkCKg55"
      }
    },
    {
      "cell_type": "code",
      "source": [
        "def get_total_revenue_by_stock_code(transactions):\n",
        "    stock_code_revenue = {}\n",
        "    for transaction in transactions:\n",
        "        stock_code = transaction[1]\n",
        "        quantity = transaction[3]\n",
        "        unit_price = transaction[5]\n",
        "        revenue = quantity * unit_price\n",
        "        if stock_code not in stock_code_revenue:\n",
        "            stock_code_revenue[stock_code] = revenue\n",
        "        else:\n",
        "            stock_code_revenue[stock_code] += revenue\n",
        "    return stock_code_revenue\n",
        "\n",
        "data = read_transactional_data('./online_retail_II.csv')\n",
        "total_revenue_by_stock_code = get_total_revenue_by_stock_code(data)\n",
        "\n",
        "top_stock_codes = sorted(total_revenue_by_stock_code.items(), key=lambda x: x[1], reverse=True)[:10]\n",
        "for stock_code, total_revenue in top_stock_codes:\n",
        "    print(\"Stock Code {}: {:.2f} revenue\".format(stock_code, total_revenue))"
      ],
      "outputs": [
        {
          "output_type": "stream",
          "name": "stdout",
          "text": [
            "Stock Code 22502: 40298.10 revenue\n",
            "Stock Code 47566: 12457.12 revenue\n",
            "Stock Code DOT: 11848.66 revenue\n",
            "Stock Code 22423: 9466.39 revenue\n",
            "Stock Code 23173: 7373.59 revenue\n",
            "Stock Code 85099B: 7237.27 revenue\n",
            "Stock Code 23245: 6509.52 revenue\n",
            "Stock Code 23298: 6341.38 revenue\n",
            "Stock Code 21137: 5744.52 revenue\n",
            "Stock Code POST: 4924.78 revenue\n"
          ]
        }
      ],
      "execution_count": 35,
      "metadata": {
        "id": "0i-bOB-cKxlx",
        "execution": {
          "iopub.status.busy": "2023-02-08T19:18:49.143Z",
          "iopub.execute_input": "2023-02-08T19:18:49.152Z",
          "iopub.status.idle": "2023-02-08T19:18:49.177Z",
          "shell.execute_reply": "2023-02-08T19:18:49.205Z"
        },
        "colab": {
          "base_uri": "https://localhost:8080/"
        },
        "outputId": "38e8e23e-7937-400e-a037-afbede25c910"
      }
    },
    {
      "cell_type": "markdown",
      "source": [
        "*****"
      ],
      "metadata": {
        "id": "AeJ7FX-G_LI_"
      }
    },
    {
      "cell_type": "markdown",
      "source": [
        "### **Question 3  [30 pts]**:\n",
        "\n",
        "Assume the following class implements the STACK abstract data type (ADT) using the array ADT.\n",
        "\n",
        "```\n",
        "class aStack(iArray):\n",
        "    def __init__(self, capacity = 5):\n",
        "        self._items = iArray(capacity)\n",
        "        self._top = -1\n",
        "        self._size = 0 \n",
        "    def push(self, newItem):\n",
        "        self._top += 1\n",
        "        self._size += 1\n",
        "        self._items[self._top] = newItem\n",
        "    def pop(self):\n",
        "        oldItem = self._items[self._top]\n",
        "        self._items[self._top] = None\n",
        "        self._top -= 1\n",
        "        self._size -= 1\n",
        "        return oldItem\n",
        "    def peek(self):\n",
        "        return self._items[self._top]\n",
        "    def __len__(self):\n",
        "        return self._size\n",
        "    def __str__(self):\n",
        "        result = ' '\n",
        "        for i in range(len(self)):\n",
        "            result += str(self._items[i]) + ' '\n",
        "        return result\n",
        "```"
      ],
      "metadata": {
        "id": "Q9J5gFQHL4dv"
      }
    },
    {
      "cell_type": "markdown",
      "source": [
        "**Question 3.a [10 pts]**:  Emulate the stack behavior using the Python list data structure rather than the Arrary ADT."
      ],
      "metadata": {
        "id": "6zUv4VWDNEVR"
      }
    },
    {
      "cell_type": "code",
      "source": [
        "#To modify the implementation of the aStack class to use the Python list data structure,\n",
        "#We can simply replace the instance of the iArray class with the Python list.\n",
        "\n",
        "class aStack:\n",
        "    def __init__(self, capacity=5):\n",
        "        self._items = []\n",
        "        self._top = -1\n",
        "        self._size = 0\n",
        "        self._capacity = capacity\n",
        "\n",
        "    def push(self, newItem):\n",
        "        self._top += 1\n",
        "        self._size += 1\n",
        "        self._items.append(newItem)\n",
        "\n",
        "    def pop(self):\n",
        "        oldItem = self._items.pop()\n",
        "        self._top -= 1\n",
        "        self._size -= 1\n",
        "        return oldItem\n",
        "\n",
        "    def peek(self):\n",
        "        return self._items[-1]\n",
        "\n",
        "    def __len__(self):\n",
        "        return self._size\n",
        "\n",
        "    def __str__(self):\n",
        "        result = ' '\n",
        "        for i in range(len(self)):\n",
        "            result += str(self._items[i]) + ' '\n",
        "        return result\n",
        "\n",
        "#In this implementation, the list self._items is used to store the stack items instead of the iArray class.\n",
        "#The push operation adds a new item to the list using the append method, while the pop operation removes the last item from the list using the pop method.\n",
        "#The peek operation returns the last item of the list without removing it. All other operations were kept from the original implementation.\n",
        "#Bear in mind that situations where a push method is applied to a full stack or a pop or peek method are applied to an empty stack will generate errors,\n",
        "#and would require logical tests to avoid these error messages"
      ],
      "outputs": [],
      "execution_count": null,
      "metadata": {
        "id": "4Rg5ESzxNF9B"
      }
    },
    {
      "cell_type": "markdown",
      "source": [
        "**Question 3.b [10 pts]**: Redefine the Stack class methods to push and pop two items rather than one item at a time.\n",
        "\n",
        "For example, if the stack includes numbers from one to ten:\n",
        "`[1, 2, 3, 4, 5, 6, 7, 8, 9, 10]`, then invoking the `pop()` method twice will remove the last four elements and modify the stack elements to be:\n",
        "`[1, 2, 3, 4, 5, 6]`"
      ],
      "metadata": {
        "id": "8WOPJCpMNKOG"
      }
    },
    {
      "cell_type": "code",
      "source": [
        "class Stack:\n",
        "    def __init__(self):\n",
        "        self.items = []\n",
        "\n",
        "    def push(self, *newItems):\n",
        "        for item in newItems:\n",
        "            self.items.append(item)\n",
        "\n",
        "    def pop(self):\n",
        "        if len(self.items) < 2:\n",
        "            return None\n",
        "        else:\n",
        "            poppedItems = self.items[-2:]\n",
        "            self.items = self.items[:-2]\n",
        "            return poppedItems\n",
        "\n",
        "    def __str__(self):\n",
        "        return str(self.items)\n",
        "\n",
        "\n",
        "\n",
        "myStack = Stack()\n",
        "myStack.push(1, 2, 3, 4, 5, 6, 7, 8, 9, 10)\n",
        "print(myStack)  \n",
        "\n",
        "myStack.pop()\n",
        "myStack.pop()\n",
        "print(myStack)  \n"
      ],
      "outputs": [
        {
          "output_type": "stream",
          "name": "stdout",
          "text": [
            "[1, 2, 3, 4, 5, 6, 7, 8, 9, 10]\n",
            "[1, 2, 3, 4, 5, 6]\n"
          ]
        }
      ],
      "execution_count": 79,
      "metadata": {
        "id": "WK3WZ8b_NV65",
        "colab": {
          "base_uri": "https://localhost:8080/"
        },
        "outputId": "e6700f39-8979-44bc-9678-aa1003778608"
      }
    },
    {
      "cell_type": "markdown",
      "source": [
        "**Question 3.c [10 pts]**:  Define and implement a function that reverses the items of a given stack using only the methods defined in the Stack class.\n",
        "\n",
        "For example, if the stack includes the elements from one to ten: `[1, 2, 3, 4, 5, 6, 7, 8, 9, 10]`, then calling the new function will modify the stack elements to be from ten to one: `[10, 9, 8, 7, 6, 5, 4, 3, 2, 1]`"
      ],
      "metadata": {
        "id": "TqtIymukNgQo"
      }
    },
    {
      "cell_type": "markdown",
      "source": [],
      "metadata": {
        "id": "RrOdchvKnOhq"
      }
    },
    {
      "cell_type": "code",
      "source": [
        "class Stack:\n",
        "    def __init__(self):\n",
        "        self.items = []\n",
        "\n",
        "    def push(self, *newItems):\n",
        "        for item in newItems:\n",
        "            self.items.append(item)\n",
        "\n",
        "    def pop(self):\n",
        "        if len(self.items) < 1:\n",
        "            return None\n",
        "        else:\n",
        "            poppedItem = self.items.pop()\n",
        "            return poppedItem\n",
        "\n",
        "    def __str__(self):\n",
        "        return str(self.items)\n",
        "\n",
        "    def reverse_stack(self):\n",
        "        # If only one item in stack, no need to reverse\n",
        "        if len(self.items) < 2:\n",
        "            return\n",
        "\n",
        "        # Remove all items from the stack and store them in a list\n",
        "        temp = []\n",
        "        while self.items:\n",
        "            temp.append(self.pop())\n",
        "\n",
        "        # Re-add the items back to the stack in reverse order\n",
        "        for item in temp:\n",
        "            self.push(item)\n",
        "\n",
        "\n",
        "myStack = Stack()\n",
        "myStack.push(1, 2, 3, 4, 5, 6, 7, 8, 9, 10)\n",
        "print(myStack)\n",
        "myStack.reverse_stack()\n",
        "print(myStack)"
      ],
      "outputs": [
        {
          "output_type": "stream",
          "name": "stdout",
          "text": [
            "[1, 2, 3, 4, 5, 6, 7, 8, 9, 10]\n",
            "[10, 9, 8, 7, 6, 5, 4, 3, 2, 1]\n"
          ]
        }
      ],
      "execution_count": 103,
      "metadata": {
        "id": "A6BllMUiNfWE",
        "colab": {
          "base_uri": "https://localhost:8080/"
        },
        "outputId": "4800b5eb-8662-4efd-b1f6-c0b6106caa21"
      }
    },
    {
      "cell_type": "markdown",
      "source": [
        "*****"
      ],
      "metadata": {
        "id": "M4-uu1--_NSO"
      }
    },
    {
      "cell_type": "markdown",
      "source": [
        "### **Question 4  [20 pts]**:\n",
        "**Question 4.a [10 pts]**:  The following two algorithms sort a list of integers in ascending order.\n",
        "```\n",
        "def Algorithm_1(lyst):\n",
        "    i = 0\n",
        "    while i < len(lyst) - 1:         \n",
        "        minIndex = i                \n",
        "        j = i + 1\n",
        "        while j < len(lyst):         \n",
        "            if lyst[minIndex] > lyst[j]:\n",
        "                minIndex = j\n",
        "            j += 1\n",
        "        if minIndex != i:            \n",
        "            lyst[minIndex], lyst[i] = lyst[i], lyst[minIndex]\n",
        "        i += 1\n",
        "    return(lyst)\n",
        "```\n",
        "\n",
        "```\n",
        "def Algorithm_2(lyst):\n",
        "    n = len(lyst)\n",
        "    while n > 1: \n",
        "        i = 1 \n",
        "        while i < n:\n",
        "            if lyst[i] < lyst[i - 1]: \n",
        "                lyst[i], lyst[i - 1] = lyst[i-1], lyst[i]\n",
        "                count += 1 \n",
        "            i += 1\n",
        "        n -= 1\n",
        "    return(lyst) # return(lyst,count)\n",
        "```\n",
        "\n",
        "Modify each algorithm to display the total number of swap operatioins. For example, if the user called `Algorithm_1` with a list of `[5, 6, 8, 3, 2, 1, 9, 4]` the number of swaps would be `6`, however the output would be `16` when calling `Algorithm_2` with the same list."
      ],
      "metadata": {
        "id": "26tmVvtYNomK"
      }
    },
    {
      "cell_type": "code",
      "source": [
        "def Algorithm_1(lyst):\n",
        "    count = 0\n",
        "    i = 0\n",
        "    while i < len(lyst) - 1:         \n",
        "        minIndex = i                \n",
        "        j = i + 1\n",
        "        while j < len(lyst):         \n",
        "            if lyst[minIndex] > lyst[j]:\n",
        "                minIndex = j\n",
        "            j += 1\n",
        "        if minIndex != i:            \n",
        "            lyst[minIndex], lyst[i] = lyst[i], lyst[minIndex]\n",
        "            count += 1\n",
        "        i += 1\n",
        "    print(\"Total number of swaps:\", count)\n",
        "    return lyst\n",
        "\n",
        "def Algorithm_2(lyst):\n",
        "    count = 0\n",
        "    n = len(lyst)\n",
        "    while n > 1: \n",
        "        i = 1 \n",
        "        while i < n:\n",
        "            if lyst[i] < lyst[i - 1]: \n",
        "                lyst[i], lyst[i - 1] = lyst[i-1], lyst[i]\n",
        "                count += 1 \n",
        "            i += 1\n",
        "        n -= 1\n",
        "    print(\"Total number of swaps:\", count)\n",
        "    return lyst\n",
        "\n",
        "# Example\n",
        "print(Algorithm_1([5, 6, 8, 3, 2, 1, 9, 4]))\n",
        "print(Algorithm_2([5, 6, 8, 3, 2, 1, 9, 4]))\n"
      ],
      "outputs": [
        {
          "output_type": "stream",
          "name": "stdout",
          "text": [
            "Total number of swaps: 6\n",
            "[1, 2, 3, 4, 5, 6, 8, 9]\n",
            "Total number of swaps: 16\n",
            "[1, 2, 3, 4, 5, 6, 8, 9]\n"
          ]
        }
      ],
      "execution_count": 18,
      "metadata": {
        "id": "oI5qzmzANwrv",
        "colab": {
          "base_uri": "https://localhost:8080/"
        },
        "outputId": "0795ad7b-d29f-4c58-920c-d1e025ed4f19"
      }
    },
    {
      "cell_type": "markdown",
      "source": [
        "**Question 4.b [10 pts]**:  Would you conclude that `Algorithm_1` is more effecient that `Algorithm_2`?  Justify your answer."
      ],
      "metadata": {
        "id": "mIDW630VOBMV"
      }
    },
    {
      "cell_type": "code",
      "source": [
        "#Algorithm_1 has a time complexity of O(n^2), while Algorithm_2 has a time complexity of O(n^2) as well. \n",
        "#Therefore, both algorithms have the same worst-case time complexity. \n",
        "#However, Algorithm_2 has an additional variable count that is incremented every time a swap is made, which makes it less efficient than Algorithm_1 in terms of memory usage. \n",
        "#Therefore, if memory usage is a concern, Algorithm_1 may be a better choice."
      ],
      "metadata": {
        "id": "WAyz9bHU_Q7T"
      },
      "execution_count": null,
      "outputs": []
    },
    {
      "cell_type": "markdown",
      "source": [
        "*****"
      ],
      "metadata": {
        "id": "-Z-8k8C9_RVb"
      }
    },
    {
      "cell_type": "markdown",
      "source": [
        "### **Question 5  [20 pts]**: "
      ],
      "metadata": {
        "id": "VxfumaAmOhHY"
      }
    },
    {
      "cell_type": "markdown",
      "source": [
        "**Question 5.a [10 pts]**:   Write an algorithm that creates a Ragged Grid with four rows. The first row has 3 positions, the second row has 4 positions, the third row includes 6 positions, and the fourth row contains 1. You can modify the iArray ADT defined below or use any standard or third-party library to implement your algorithm.\n",
        "\n",
        "```\n",
        "class iArray():\n",
        "    def __init__(self, capacity, fillValue = None):\n",
        "        self._items = list()\n",
        "        for count in range(capacity): \n",
        "            self._items.append(fillValue)\n",
        "    def __len__(self):\n",
        "        return len(self._items)  \n",
        "    def __str__(self):\n",
        "        return str(self._items)\n",
        "    def __iter__(self):\n",
        "        return iter(self._items)\n",
        "    def __getitem__(self, index):\n",
        "        return self._items[index]\n",
        "    def __setitem__(self, index, newItem):\n",
        "        self._items[index] = newItem\n",
        "```"
      ],
      "metadata": {
        "id": "JZj5rCeeOZtY"
      }
    },
    {
      "cell_type": "code",
      "source": [
        "# Create a empty list named \"ragged_grid\".\n",
        "# Create a list of row with the lengths [3, 4, 6, 1].\n",
        "# For each row length in the list of row lengths: create a new iArray with the row length and fillValue of None; append the iArray to the \"ragged_grid\" list.\n",
        "# Return the \"ragged_grid\" list.\n",
        "\n",
        "\n",
        "class iArray():\n",
        "    def __init__(self, capacity, fillValue=None):\n",
        "        self._items = list()\n",
        "        for count in range(capacity):\n",
        "            self._items.append(fillValue)\n",
        "\n",
        "    def __len__(self):\n",
        "        return len(self._items)\n",
        "\n",
        "    def __str__(self):\n",
        "        return str(self._items)\n",
        "\n",
        "    def __iter__(self):\n",
        "        return iter(self._items)\n",
        "\n",
        "    def __getitem__(self, index):\n",
        "        return self._items[index]\n",
        "\n",
        "    def __setitem__(self, index, newItem):\n",
        "        self._items[index] = newItem\n",
        "\n",
        "def create_ragged_grid():\n",
        "    row_lengths = [3, 4, 6, 1]\n",
        "    ragged_grid = []\n",
        "    for row_length in row_lengths:\n",
        "        row = iArray(row_length, None)\n",
        "        ragged_grid.append(row)\n",
        "    return ragged_grid\n",
        "\n",
        "ragged_grid = create_ragged_grid()\n",
        "for row in ragged_grid:\n",
        "    print(row)\n",
        "\n"
      ],
      "outputs": [
        {
          "output_type": "stream",
          "name": "stdout",
          "text": [
            "[None, None, None]\n",
            "[None, None, None, None]\n",
            "[None, None, None, None, None, None]\n",
            "[None]\n"
          ]
        }
      ],
      "execution_count": 19,
      "metadata": {
        "id": "ML2ryPyUOto-",
        "colab": {
          "base_uri": "https://localhost:8080/"
        },
        "outputId": "0ef928f4-bb24-4eb9-d00b-1f58b21bf7ee"
      }
    },
    {
      "cell_type": "markdown",
      "source": [
        "**Question 5.b [10 pts]**:  Write an algorithm to create and display a two-dimensional array or a regular Grid of three rows and four columns. The Grid's elements are selected randomly from an inclusive interval of `[-100, 100]`. You can install and use any standard or third-party library to report your answer to this question."
      ],
      "metadata": {
        "id": "6-NzxR9DO8K8"
      }
    },
    {
      "cell_type": "code",
      "source": [
        "# Importin the random module to generate random integers within the interval [-100, 100].\n",
        "\n",
        "import random\n",
        "\n",
        "# Creating a 3x4 grid with random elements.\n",
        "\n",
        "grid = [[random.randint(-100, 100) for j in range(4)] for i in range(3)]\n",
        "\n",
        "# Display the grid.\n",
        "\n",
        "for row in grid:\n",
        "    for element in row:\n",
        "        print(element, end=' ')\n",
        "    print()\n"
      ],
      "outputs": [
        {
          "output_type": "stream",
          "name": "stdout",
          "text": [
            "27 41 34 -40 \n",
            "-61 60 5 73 \n",
            "63 92 -92 81 \n"
          ]
        }
      ],
      "execution_count": 91,
      "metadata": {
        "id": "hIZIWSAdPAs9",
        "colab": {
          "base_uri": "https://localhost:8080/"
        },
        "outputId": "2a057ba1-7eed-48cf-ed6e-df97683a13d9"
      }
    },
    {
      "cell_type": "markdown",
      "source": [
        "**Question BONUS [10 pts]**: \n",
        "Define and implement a [Double-ended queue](https://en.wikipedia.org/wiki/Queue_(abstract_data_type)) (Dequeue) ADT. The Dequeue is a sequence of items where addtions and deletions of items can be done at both ends of the sequence.  The Dequeue can be implemnted using the iArray ADT with the following methods: \n",
        "``` \n",
        "constructor, append_left, append_right, pop_left, pop_right, peek_left, peek_right, __len__, and __str__.\n",
        "```\n",
        "```\n",
        "class Deque(iArray):\n",
        "  def __init__(self, capacity = 10):\n",
        "    #INSERT YOUR ANSWER HERE.\n",
        "  \n",
        "  def append_left(self, newItem):\n",
        "    #INSERT YOUR ANSWER HERE.\n",
        "  \n",
        "  def append_right(self, newItem):  \n",
        "    #INSERT YOUR ANSWER HERE.\n",
        "  \n",
        "  def pop_left(self):\n",
        "    #INSERT YOUR ANSWER HERE.\n",
        "  \n",
        "  def pop_right(self):\n",
        "    #INSERT YOUR ANSWER HERE.\n",
        "  \n",
        "  def peek_left(self):\n",
        "    #INSERT YOUR ANSWER HERE.\n",
        "  \n",
        "  def peek_right(self):\n",
        "    #INSERT YOUR ANSWER HERE.\n",
        "  \n",
        "  def __len__(self):\n",
        "    #INSERT YOUR ANSWER HERE.\n",
        "  \n",
        "  def __str__(self):\n",
        "    #INSERT YOUR ANSWER HERE.\n",
        "```"
      ],
      "metadata": {
        "id": "A4M7odS0PH1m"
      }
    },
    {
      "cell_type": "code",
      "source": [
        "# __init__: Initialize the Deque with a capacity, and sets the front and back indices to keep track of the elements in the Deque.\n",
        "# append_left: Adds a new item to the left end of the Deque.\n",
        "# append_right: Adds a new item to the right end of the Deque.\n",
        "# pop_left: Removes and returns the leftmost item from the Deque.\n",
        "# pop_right: Removes and returns the rightmost item from the Deque.\n",
        "# peek_left: Returns the leftmost item from the Deque without removing it.\n",
        "# peek_right: Returns the rightmost item from the Deque without removing it.\n",
        "# __len__: Returns the number of items in the Deque.\n",
        "# _str__: Returns a string representation of the Deque.\n",
        "\n",
        "class Deque(iArray):\n",
        "    def __init__(self, capacity=10):\n",
        "        super().__init__(capacity)\n",
        "        self._front = 0\n",
        "        self._back = -1\n",
        "\n",
        "    def append_left(self, newItem):\n",
        "        if len(self) == len(self._items):\n",
        "            raise Exception(\"Deque is full\")\n",
        "        self._front = (self._front - 1) % len(self._items)\n",
        "        self._items[self._front] = newItem\n",
        "\n",
        "    def append_right(self, newItem):\n",
        "        if len(self) == len(self._items):\n",
        "            raise Exception(\"Deque is full\")\n",
        "        self._back = (self._back + 1) % len(self._items)\n",
        "        self._items[self._back] = newItem\n",
        "\n",
        "    def pop_left(self):\n",
        "        if len(self) == 0:\n",
        "            raise Exception(\"Deque is empty\")\n",
        "        item = self._items[self._front]\n",
        "        self._items[self._front] = None\n",
        "        self._front = (self._front + 1) % len(self._items)\n",
        "        return item\n",
        "\n",
        "    def pop_right(self):\n",
        "        if len(self) == 0:\n",
        "            raise Exception(\"Deque is empty\")\n",
        "        item = self._items[self._back]\n",
        "        self._items[self._back] = None\n",
        "        self._back = (self._back - 1) % len(self._items)\n",
        "        return item\n",
        "\n",
        "    def peek_left(self):\n",
        "        if len(self) == 0:\n",
        "            raise Exception(\"Deque is empty\")\n",
        "        return self._items[self._front]\n",
        "\n",
        "    def peek_right(self):\n",
        "        if len(self) == 0:\n",
        "            raise Exception(\"Deque is empty\")\n",
        "        return self._items[self._back]\n",
        "\n",
        "    def __len__(self):\n",
        "        if self._back >= self._front:\n",
        "            return self._back - self._front + 1\n",
        "        else:\n",
        "            return len(self._items) - (self._front - self._back - 1)\n",
        "\n",
        "    def __str__(self):\n",
        "        items = []\n",
        "        for i in range(len(self)):\n",
        "            items.append(str(self._items[(self._front + i) % len(self._items)]))\n",
        "        return \"[\" + \", \".join(items) + \"]\"\n"
      ],
      "outputs": [],
      "execution_count": null,
      "metadata": {
        "id": "aLRJkPSRPNhJ"
      }
    },
    {
      "cell_type": "markdown",
      "source": [
        "*****"
      ],
      "metadata": {
        "nteract": {
          "transient": {
            "deleting": false
          }
        },
        "id": "GGb33L5LioN2"
      }
    },
    {
      "cell_type": "markdown",
      "source": [
        "#### This is the end of assignment 2"
      ],
      "metadata": {
        "id": "VfA8AP8qO0g7"
      }
    }
  ],
  "metadata": {
    "colab": {
      "provenance": []
    },
    "kernelspec": {
      "display_name": "Python 3",
      "language": "python",
      "name": "python3"
    },
    "language_info": {
      "name": "python",
      "version": "3.8.5",
      "mimetype": "text/x-python",
      "codemirror_mode": {
        "name": "ipython",
        "version": 3
      },
      "pygments_lexer": "ipython3",
      "nbconvert_exporter": "python",
      "file_extension": ".py"
    },
    "nteract": {
      "version": "0.28.0"
    },
    "varInspector": {
      "cols": {
        "lenName": 16,
        "lenType": 16,
        "lenVar": 40
      },
      "kernels_config": {
        "python": {
          "delete_cmd_postfix": "",
          "delete_cmd_prefix": "del ",
          "library": "var_list.py",
          "varRefreshCmd": "print(var_dic_list())"
        },
        "r": {
          "delete_cmd_postfix": ") ",
          "delete_cmd_prefix": "rm(",
          "library": "var_list.r",
          "varRefreshCmd": "cat(var_dic_list()) "
        }
      },
      "types_to_exclude": [
        "module",
        "function",
        "builtin_function_or_method",
        "instance",
        "_Feature"
      ],
      "window_display": false
    }
  },
  "nbformat": 4,
  "nbformat_minor": 0
}