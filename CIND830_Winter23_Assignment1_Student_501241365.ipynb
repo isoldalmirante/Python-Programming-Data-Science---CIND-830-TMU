{
  "cells": [
    {
      "cell_type": "markdown",
      "source": [
        "## CIND830 - Python Programming for Data Science  \n",
        "### Assignment 1 (15% of the final grade) \n",
        "### Due on February 15, 2023, 11:59 PM "
      ],
      "metadata": {
        "id": "kJ6ssXaGJfGN"
      }
    },
    {
      "cell_type": "markdown",
      "source": [
        "*****\n",
        "This is a Jupyter Notebook document that extends a simple formatting syntax for authoring HTML and PDF. Review [this](https://jupyter-notebook.readthedocs.io/en/stable/notebook.html) website for more details on using Jupyter Notebooks.\n",
        "\n",
        "Consider using a Jupyter Notebook platform to complete this assignment. Ensure using **Python 3.7 release or higher**, then complete the assignment by inserting your Python code wherever seeing the string `#INSERT YOUR ANSWER HERE.`\n",
        "\n",
        "You are expected to submit the notebook file (in IPYNB format) and the exported version (either in PDF or HTML) in the same Assignment link in D2L. Use [these](https://www.ryerson.ca/courses/students/tutorials/assignments/) guidelines to submit **both** the IPYNB and the exported file (HTML or PDF). Failing to submit both files will be subject to mark deduction.\n",
        "\n",
        "Please be advised that you cannot get more than 100% in this assignment, and the **BONUS** question (if there is any) will only be graded if all other questions have been submitted."
      ],
      "metadata": {
        "id": "UWjXw7DsJfGP"
      }
    },
    {
      "cell_type": "markdown",
      "source": [
        "*****\n",
        "Coverage: <br>\n",
        "1. Data Types and Expressions <br>\n",
        "2. Repetition Statements <br>\n",
        "3. Selection Statements <br>\n",
        "4. Strings, Lists and Text Files <br>\n",
        "*****"
      ],
      "metadata": {
        "id": "EAq5nq7shwbI"
      }
    },
    {
      "cell_type": "markdown",
      "source": [
        "### Question 1  **[40 pts]**:"
      ],
      "metadata": {
        "id": "eOXa-E0Gf7QI"
      }
    },
    {
      "cell_type": "markdown",
      "source": [
        "**a.** **[10 points]** Write a code that reads an integer. If the integer is positive, the code should count down to zero; otherwise counts up to zero.\n",
        "For example, if the user enters `5`, the output should be `5 4 3 2 1 0`, and if the input is `-4`, the result should be `-4 -3 -2 -1 0`."
      ],
      "metadata": {
        "id": "4EP8UieqSaxr"
      }
    },
    {
      "cell_type": "code",
      "source": [
        "x = int(input())\n",
        "\n",
        "if x > 0:\n",
        "  for i in range (x, -1, -1):\n",
        "    print(x)\n",
        "    x=x-1 \n",
        "else:\n",
        "  for i in range (x, 1, 1):\n",
        "    print(x)\n",
        "    x=x+1\n",
        "  "
      ],
      "outputs": [
        {
          "output_type": "stream",
          "name": "stdout",
          "text": [
            "-4\n",
            "-4\n",
            "-3\n",
            "-2\n",
            "-1\n",
            "0\n"
          ]
        }
      ],
      "execution_count": 70,
      "metadata": {
        "id": "bq7_jXixSgce",
        "colab": {
          "base_uri": "https://localhost:8080/",
          "height": 0
        },
        "outputId": "89b13636-f258-42ed-af74-93926f02f66f",
        "execution": {
          "shell.execute_reply": "2023-01-17T20:06:05.939Z",
          "iopub.status.busy": "2023-01-17T20:06:06.046Z",
          "iopub.execute_input": "2023-01-17T20:06:06.057Z",
          "iopub.status.idle": "2023-01-17T20:06:06.068Z"
        }
      }
    },
    {
      "cell_type": "markdown",
      "source": [
        "**b. [10 points]** Write a code to find the volume of a sphere rounded to the nearest hundredth. The volume of the sphere is $\\frac{4}{3}\\pi r^3$, where $r$ is the radius of the sphere. Your code should receive the value of $r$ from the user as the only input.\n",
        "\n",
        "For example, if the user enters the radius as $6m$, the output would be $904.78m^3$. "
      ],
      "metadata": {
        "id": "xC327J7nSlmj"
      }
    },
    {
      "cell_type": "code",
      "source": [
        "import math\n",
        "r = float(input())\n",
        "\n",
        "v = (4/3) * math.pi * r**3\n",
        "\n",
        "print(round(v,2))"
      ],
      "outputs": [
        {
          "output_type": "stream",
          "name": "stdout",
          "text": [
            "6\n",
            "904.78\n"
          ]
        }
      ],
      "execution_count": 71,
      "metadata": {
        "id": "u-6JO9QESphY",
        "execution": {
          "shell.execute_reply": "2023-01-17T20:06:05.947Z",
          "iopub.status.busy": "2023-01-17T20:06:06.081Z",
          "iopub.execute_input": "2023-01-17T20:06:06.093Z",
          "iopub.status.idle": "2023-01-17T20:06:06.106Z"
        },
        "colab": {
          "base_uri": "https://localhost:8080/",
          "height": 0
        },
        "outputId": "09122618-3e9d-47d4-e07b-b33aac213719"
      }
    },
    {
      "cell_type": "markdown",
      "source": [
        "**c. [10 points]** Write a code to find the [Greatest Common Divisor](https://en.wikipedia.org/wiki/Greatest_common_divisor) for two positive integers. Your code should read the two integers as input from the user."
      ],
      "metadata": {
        "id": "i7c32jVLSvTb"
      }
    },
    {
      "cell_type": "code",
      "source": [
        "import math\n",
        "\n",
        "print(\"Result - The gcd of numbers 500 and 250 is: \" + str(math.gcd(500,250)))"
      ],
      "outputs": [
        {
          "output_type": "stream",
          "name": "stdout",
          "text": [
            "Result - The gcd of numbers 500 and 250 is: 250\n"
          ]
        }
      ],
      "execution_count": 72,
      "metadata": {
        "id": "3Ommuii_S3M-",
        "execution": {
          "shell.execute_reply": "2023-01-17T20:06:05.957Z",
          "iopub.status.busy": "2023-01-17T20:06:06.126Z",
          "iopub.execute_input": "2023-01-17T20:06:06.139Z",
          "iopub.status.idle": "2023-01-17T20:06:06.154Z"
        },
        "colab": {
          "base_uri": "https://localhost:8080/",
          "height": 0
        },
        "outputId": "ae0c4b34-1b2e-45a2-f9ab-abc0760b6f23"
      }
    },
    {
      "cell_type": "markdown",
      "source": [
        "**d) [10 pts]**  Write a code to display the first **n** [prime numbers](https://en.wikipedia.org/wiki/Prime_number). For example, if the user enters **n** as `8`, the output should be `2 3 5 7 11 13 17 19`."
      ],
      "metadata": {
        "id": "qUgI1UpSTqY9"
      }
    },
    {
      "cell_type": "code",
      "source": [
        "def Prime_Number(n):  \n",
        "    for i in range(2,n//2+1):  \n",
        "        if(n%i==0):  \n",
        "            return(0)  \n",
        "    return(1)  \n",
        "  \n",
        "N=int(input(\"Enter the number: \"))  \n",
        "i=2 \n",
        "lst=[] \n",
        "while(1):  \n",
        "    if(Prime_Number(i)):  \n",
        "        lst.append(i) \n",
        "        if(len(lst)==N): \n",
        "            break \n",
        "    i+=1 \n",
        "print(\"Result - The first \"+str(N)+\" prime numbers are: \",end=\"\") \n",
        "print(*lst) "
      ],
      "outputs": [
        {
          "output_type": "stream",
          "name": "stdout",
          "text": [
            "Enter the number: 8\n",
            "Result - The first 8 prime numbers are: 2 3 5 7 11 13 17 19\n"
          ]
        }
      ],
      "execution_count": 73,
      "metadata": {
        "id": "2DfaTvqQTsyL",
        "execution": {
          "shell.execute_reply": "2023-01-17T20:06:05.964Z",
          "iopub.status.busy": "2023-01-17T20:06:06.183Z",
          "iopub.execute_input": "2023-01-17T20:06:06.193Z",
          "iopub.status.idle": "2023-01-17T20:06:06.201Z"
        },
        "colab": {
          "base_uri": "https://localhost:8080/",
          "height": 0
        },
        "outputId": "61c85507-bb0a-420d-ea18-f73df8388725"
      }
    },
    {
      "cell_type": "markdown",
      "source": [
        "*****"
      ],
      "metadata": {
        "id": "ptnOzJ-Ox4N-"
      }
    },
    {
      "cell_type": "markdown",
      "source": [
        "\n",
        "\n",
        "### Question 2  **[30 pts]**:"
      ],
      "metadata": {
        "id": "tim9-gxMr7jW"
      }
    },
    {
      "cell_type": "markdown",
      "source": [
        "**a)**  **[10 pts]**  Write a Python program that takes a textual string as input from the user and returns the numbers from that string.\n",
        "```\n",
        "Sample String: Jane Doe is taking 2 courses in Winter2023 semester. Her student id is 55Jane77Doe99.\n",
        "Expected Output: 2\n",
        "```\n",
        "**NOTE**: You might use the built-in string methods such as `split()`, `strip()`, `isnumeric()`, `isalpha()` and `isdigit()`."
      ],
      "metadata": {
        "id": "RKFFvZ6Rr7-_"
      }
    },
    {
      "cell_type": "code",
      "source": [
        "string = input()\n",
        "x = string.split()\n",
        "\n",
        "lst = []\n",
        "\n",
        "for i in range(0,len(x)):\n",
        "  if(x[i].isnumeric()):\n",
        "    lst.append(x[i])\n",
        "\n",
        "print(lst)"
      ],
      "outputs": [
        {
          "output_type": "stream",
          "name": "stdout",
          "text": [
            "Jane Doe is taking 2 courses in Winter2023 semester. Her student id is 55Jane77Doe99.\n",
            "['2']\n"
          ]
        }
      ],
      "execution_count": 74,
      "metadata": {
        "id": "Zvr96FRXsDKJ",
        "execution": {
          "shell.execute_reply": "2023-01-17T20:06:05.972Z",
          "iopub.status.busy": "2023-01-17T20:06:06.211Z",
          "iopub.execute_input": "2023-01-17T20:06:06.217Z",
          "iopub.status.idle": "2023-01-17T20:06:06.225Z"
        },
        "colab": {
          "base_uri": "https://localhost:8080/",
          "height": 0
        },
        "outputId": "8b3060b6-a685-43ff-ec45-508ca4121613"
      }
    },
    {
      "cell_type": "markdown",
      "source": [
        "**b)**  **[10 pts]** Write a Python program that takes a textual string as input from the user and returns the numbers (**including the words that contain letters**) from the entered string. If a word contains both letters and digits, then digits need to be extracted from the word, as shown in the following example.\n",
        "```\n",
        "Sample String: Jane Doe is taking 2 courses in Winter2023 semester. Her student id is 55Jane77Doe99.\n",
        "Expected Output: 2, 2023, 557799\n",
        "```"
      ],
      "metadata": {
        "id": "Ac3_bcvTsGxP"
      }
    },
    {
      "cell_type": "code",
      "source": [
        "string = input()\n",
        "x = \"\"\n",
        "\n",
        "for i in string:\n",
        "  if i.isalpha():\n",
        "    pass\n",
        "  else:\n",
        "    if i == '.':\n",
        "      pass\n",
        "    else:\n",
        "      x += i\n",
        "\n",
        "x = x.split()\n",
        "\n",
        "print(x)\n"
      ],
      "outputs": [
        {
          "output_type": "stream",
          "name": "stdout",
          "text": [
            "Jane Doe is taking 2 courses in Winter2023 semester. Her student id is 55Jane77Doe99.\n",
            "['2', '2023', '557799']\n"
          ]
        }
      ],
      "execution_count": 75,
      "metadata": {
        "id": "TpNNysA5sJKa",
        "execution": {
          "shell.execute_reply": "2023-01-17T20:06:05.983Z",
          "iopub.status.busy": "2023-01-17T20:06:06.239Z",
          "iopub.execute_input": "2023-01-17T20:06:06.247Z",
          "iopub.status.idle": "2023-01-17T20:06:06.256Z"
        },
        "colab": {
          "base_uri": "https://localhost:8080/",
          "height": 0
        },
        "outputId": "3b996f9d-816e-4760-9340-ef23d695eb6e"
      }
    },
    {
      "cell_type": "markdown",
      "source": [
        "**c)  [10 pts]**: Write a Python program that extracts and returns numbers from an entered string, similar to part b. However, the solution should cover an additional edge case, separating digits that appear in one word, as shown in the following example.\n",
        "```\n",
        "Sample String: Jane Doe is taking 2 courses in Winter2023 semester. Her student id is 55Jane77Doe99.\n",
        "Expected Output: 2, 2023, 55, 77, 99\n",
        "```"
      ],
      "metadata": {
        "id": "1Ikg6MNLPwzP"
      }
    },
    {
      "cell_type": "code",
      "source": [
        "string = input()\n",
        "\n",
        "for i in string:\n",
        "  if i.isalpha():\n",
        "    string = string.replace(i,\" \")\n",
        "  else:\n",
        "    if i == '.':\n",
        "      string = string.replace(i,\" \")\n",
        "\n",
        "x = string.split()\n",
        "\n",
        "print(x)\n"
      ],
      "outputs": [
        {
          "output_type": "stream",
          "name": "stdout",
          "text": [
            "Jane Doe is taking 2 courses in Winter2023 semester. Her student id is 55Jane77Doe99.\n",
            "['2', '2023', '55', '77', '99']\n"
          ]
        }
      ],
      "execution_count": 76,
      "metadata": {
        "id": "lVjl0vA-QGCN",
        "execution": {
          "shell.execute_reply": "2023-01-17T20:06:05.993Z",
          "iopub.status.busy": "2023-01-17T20:06:06.268Z",
          "iopub.execute_input": "2023-01-17T20:06:06.276Z",
          "iopub.status.idle": "2023-01-17T20:06:06.286Z"
        },
        "colab": {
          "base_uri": "https://localhost:8080/",
          "height": 0
        },
        "outputId": "5b2a5431-07fb-4b29-c7da-3d571ce561e0"
      }
    },
    {
      "cell_type": "markdown",
      "source": [
        "*****"
      ],
      "metadata": {
        "id": "tRejZHElxyEy"
      }
    },
    {
      "cell_type": "markdown",
      "source": [
        "### Question 3  **[30 pts]**:"
      ],
      "metadata": {
        "id": "Ap9SAsh24cPf"
      }
    },
    {
      "cell_type": "markdown",
      "source": [
        "**a)**  **[10 pts]**  Write a Python program that calculates the π (pi) value using the following approximation formula (Leibniz's Formula): \n",
        "$$\\pi ≈4-\\frac{4}{3}+\\frac{4}{5}-\\frac{4}{7}+\\frac{4}{9}-...$$  \n",
        "\n",
        "The user is required to input the number of terms, excluding the term `4` that exists at the beginning of the formula, for the program to compute and display the returned value on the screen. \n",
        "\n",
        "**Example:**  If the user enters `2` for the number of terms in the formula, then only the below formula should be calculated, and the total sum, `3.466666666666667`, will be displayed on the screen.  \n",
        "$$\\pi ≈4-\\frac{4}{3}+\\frac{4}{5}$$\n",
        "\n",
        "**NOTE:** Please consider using at least 1 repetition statement in the answer. To get a relative value to π try entering 1000000 to be the number of terms."
      ],
      "metadata": {
        "id": "wM21TxMu4oQA"
      }
    },
    {
      "cell_type": "code",
      "source": [
        "x = int(input())+1\n",
        "y = 0\n",
        "z = 0\n",
        "\n",
        "for i in range (x):\n",
        "  if i % 2 == 0:\n",
        "    y = 4/(((i)*2)+1)\n",
        "    z = z+y\n",
        "  else:\n",
        "    y = 4/(((i)*2)+1)\n",
        "    z = z-y\n",
        "\n",
        "print(z)"
      ],
      "outputs": [
        {
          "output_type": "stream",
          "name": "stdout",
          "text": [
            "2\n",
            "3.466666666666667\n"
          ]
        }
      ],
      "execution_count": 77,
      "metadata": {
        "id": "kTFxrtbs8dE3",
        "execution": {
          "shell.execute_reply": "2023-01-17T20:06:06.001Z",
          "iopub.status.busy": "2023-01-17T20:06:06.297Z",
          "iopub.execute_input": "2023-01-17T20:06:06.304Z",
          "iopub.status.idle": "2023-01-17T20:06:06.312Z"
        },
        "colab": {
          "base_uri": "https://localhost:8080/",
          "height": 0
        },
        "outputId": "ecfd47ce-faf8-43eb-ca6b-b756e182dae3"
      }
    },
    {
      "cell_type": "markdown",
      "source": [
        "**b)**  **[10 pts]**  Write a Python program that calculates the number `e` (Euler's Number) value using the following approximation formula: \n",
        "$$e ≈ \\sum \\limits _{n=0} ^{∞} \\frac{1}{n!} = 1+\\frac{1}{1}+\\frac{1}{1*2}+\\frac{1}{1*2*3}+\\frac{1}{1*2*3*4}+...$$  \n",
        "\n",
        "The user is required to input the number of terms of the formula for the program to compute and display the returned value on the screen. \n",
        "\n",
        "E.g. If the user enters `4` for the number of terms in the formula, then only the below formula should be calculated and the displayed output would be 2.6666666666666665.\n",
        "\n",
        "$$e ≈1+\\frac{1}{1}+\\frac{1}{1*2}+\\frac{1}{1*2*3}$$  \n",
        "\n",
        "**NOTE:** You are expected to use repetition statements in the answer. You cannot use the `factorial()` function of the Python's `math` module in your answer."
      ],
      "metadata": {
        "id": "ubz6julQ8z0I"
      }
    },
    {
      "cell_type": "code",
      "source": [
        "x = int(input())-1\n",
        "y = 1\n",
        "z = 1\n",
        "\n",
        "\n",
        "for i in range (x):\n",
        "  y = y*(i+1)\n",
        "  z = z + (1/y)\n",
        "\n",
        "print(z)\n",
        "\n"
      ],
      "outputs": [
        {
          "output_type": "stream",
          "name": "stdout",
          "text": [
            "4\n",
            "2.6666666666666665\n"
          ]
        }
      ],
      "execution_count": 78,
      "metadata": {
        "id": "NAQNukmX_mqx",
        "execution": {
          "shell.execute_reply": "2023-01-17T20:06:06.010Z",
          "iopub.status.busy": "2023-01-17T20:06:06.324Z",
          "iopub.execute_input": "2023-01-17T20:06:06.333Z",
          "iopub.status.idle": "2023-01-17T20:06:06.342Z"
        },
        "colab": {
          "base_uri": "https://localhost:8080/",
          "height": 0
        },
        "outputId": "1ea28c4a-03ae-4473-f3a0-446012f13637"
      }
    },
    {
      "cell_type": "markdown",
      "source": [
        "**c)**  **[10 pts]**  The Sigmoid function is an important function used in Logistic Regression in Machine Learning. The function always returns values between 0 and 1. The formula is given below:  \n",
        "$$f(x)= \\frac{1}{1+e^{-(x)}} $$  \n",
        "\n",
        "Write a Python program that accepts two `x` values (`x1` and `x2`) from the user. The program should inform the user of an acceptance criterion where `x1` is a negative number and `x2` is a positive number. The program should check the entered values by the user and ask to re-enter them if they violate the acceptance criterion.\n",
        "  \n",
        "After entering the two `x` values, the program should calculate the formula `f(x),` rounded to 3 decimal places, for the `x` values starting from `x1` and incrementing by +1 until it reaches `x2` while displaying the `x` and `f(x)` values as coordinates within parentheses on the screen. \n",
        "\n",
        "**Example:**  If the user enters `x1=-4` and `x2=3`, then the program must display the calculated values in the below form (the calculated `f(x)` values might be slightly different in your outputs)\n",
        "```\n",
        "Please enter x1 (must be a negative value): -4\n",
        "Please enter x2 (must be a positive value): 3\n",
        "The calculated coordinates for x values between -4 and 3 are: \n",
        "(-4, 0.018)\n",
        "(-3, 0.047)\n",
        "(-2, 0.119)\n",
        "(-1, 0.269)\n",
        "( 0, 0.5)\n",
        "( 1, 0.731)\n",
        "( 2, 0.881)\n",
        "( 3, 0.953)\n",
        "```\n",
        "\n",
        "**NOTE:** You are expected to use repetition statements in the answer"
      ],
      "metadata": {
        "id": "-OMjGQ2MAjhG"
      }
    },
    {
      "cell_type": "code",
      "source": [
        "import numpy as np\n",
        "\n",
        "print('Insert negative value')\n",
        "x1 = int(input())\n",
        "if x1 >= 0:\n",
        "  x1 = int(input())\n",
        "else:\n",
        "  print('Insert positive value')\n",
        "  x2 = int(input())\n",
        "  if x2 <= 0:\n",
        "    x2 = int(input())\n",
        "  else:\n",
        "    def sigmoid(z):\n",
        "      return 1 / (1 + np.exp(-z))\n",
        "    print ('The calculated coordinates for x values between ' + str(x1) + ' and ' + str(x2) + ' are: ')\n",
        "    for i in range (x1 , x2 + 1):\n",
        "      print('(' + str(i) + ',' + str(round(sigmoid(i),3)) + ')')"
      ],
      "outputs": [
        {
          "output_type": "stream",
          "name": "stdout",
          "text": [
            "Insert negative value\n",
            "-3\n",
            "Insert positive value\n",
            "5\n",
            "The calculated coordinates for x values between -3 and 5 are: \n",
            "(-3,0.047)\n",
            "(-2,0.119)\n",
            "(-1,0.269)\n",
            "(0,0.5)\n",
            "(1,0.731)\n",
            "(2,0.881)\n",
            "(3,0.953)\n",
            "(4,0.982)\n",
            "(5,0.993)\n"
          ]
        }
      ],
      "execution_count": 79,
      "metadata": {
        "id": "6XvJ4dnVHCjG",
        "execution": {
          "shell.execute_reply": "2023-01-17T20:06:06.019Z",
          "iopub.status.busy": "2023-01-17T20:06:06.353Z",
          "iopub.execute_input": "2023-01-17T20:06:06.362Z",
          "iopub.status.idle": "2023-01-17T20:06:06.371Z"
        },
        "colab": {
          "base_uri": "https://localhost:8080/",
          "height": 0
        },
        "outputId": "d1170948-eb33-4769-95bd-22573458db3e"
      }
    },
    {
      "cell_type": "markdown",
      "source": [
        "*****\n"
      ],
      "metadata": {
        "id": "jPrZqSxgSWNr"
      }
    },
    {
      "cell_type": "markdown",
      "source": [
        "#### This is the end of assignment 1\n",
        "\n",
        "\n",
        "\n",
        "\n"
      ],
      "metadata": {
        "id": "rtC6fqdFNkdO"
      }
    }
  ],
  "metadata": {
    "colab": {
      "provenance": []
    },
    "kernelspec": {
      "display_name": "Python 3",
      "language": "python",
      "name": "python3"
    },
    "language_info": {
      "name": "python",
      "version": "3.8.5",
      "mimetype": "text/x-python",
      "codemirror_mode": {
        "name": "ipython",
        "version": 3
      },
      "pygments_lexer": "ipython3",
      "nbconvert_exporter": "python",
      "file_extension": ".py"
    },
    "nteract": {
      "version": "0.28.0"
    },
    "varInspector": {
      "cols": {
        "lenName": 16,
        "lenType": 16,
        "lenVar": 40
      },
      "kernels_config": {
        "python": {
          "delete_cmd_postfix": "",
          "delete_cmd_prefix": "del ",
          "library": "var_list.py",
          "varRefreshCmd": "print(var_dic_list())"
        },
        "r": {
          "delete_cmd_postfix": ") ",
          "delete_cmd_prefix": "rm(",
          "library": "var_list.r",
          "varRefreshCmd": "cat(var_dic_list()) "
        }
      },
      "types_to_exclude": [
        "module",
        "function",
        "builtin_function_or_method",
        "instance",
        "_Feature"
      ],
      "window_display": false
    }
  },
  "nbformat": 4,
  "nbformat_minor": 0
}